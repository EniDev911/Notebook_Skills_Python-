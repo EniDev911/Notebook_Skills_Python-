{
    "metadata": {
        "kernelspec": {
            "name": "python3",
            "display_name": "Python 3",
            "language": "python"
        },
        "language_info": {
            "name": "python",
            "version": "3.6.6",
            "mimetype": "text/x-python",
            "codemirror_mode": {
                "name": "ipython",
                "version": 3
            },
            "pygments_lexer": "ipython3",
            "nbconvert_exporter": "python",
            "file_extension": ".py"
        }
    },
    "nbformat_minor": 2,
    "nbformat": 4,
    "cells": [
        {
            "cell_type": "code",
            "source": [
                "a = int(input('Introduce un número para evaluar: '))\n",
                "mensaje = f'El número {a} es par'\n",
                "mensaje2 = f'El número {a} no es par'\n",
                "if a % 2 == 0:\n",
                "    print(mensaje)  \n",
                "else:\n",
                "    print(mensaje2) \n"
            ],
            "metadata": {
                "azdata_cell_guid": "cb3e7d95-595a-4dc0-a903-c8ef00bd01a9"
            },
            "outputs": [
                {
                    "name": "stdout",
                    "text": "El número 50 es par\n",
                    "output_type": "stream"
                }
            ],
            "execution_count": 2
        },
        {
            "cell_type": "code",
            "source": [
                "x = int(input('Enter a number to evaluate: '))\n",
                "message = f'The number {x} entered is even'\n",
                "message2 = f'The number {x} is odd'\n",
                "if x % 2 == 0:\n",
                "    print(message)\n",
                "else:\n",
                "    print(message2)"
            ],
            "metadata": {
                "azdata_cell_guid": "83ec4669-e8a2-4662-ae68-fc47b5731b6b"
            },
            "outputs": [
                {
                    "output_type": "stream",
                    "name": "stdout",
                    "text": "The number 29 is odd\n"
                }
            ],
            "execution_count": 2
        },
        {
            "cell_type": "markdown",
            "source": [
                "## 16\r\n",
                "<p style=\"font-size:16px;\">\r\n",
                "Escribir un programa usando un generador para imprimir numéros pares entre 0 y N separados por coma \",\" <br>\r\n",
                "mientras que N se ingresa mediante consola \r\n",
                "</p>"
            ],
            "metadata": {
                "azdata_cell_guid": "eb775ce8-01dd-4eea-b843-907a6e3d2621"
            }
        },
        {
            "cell_type": "code",
            "source": [
                "def EvenGenerator(n):\r\n",
                "    i = 0\r\n",
                "    while i <= n:\r\n",
                "        if i%2 == 0:\r\n",
                "            yield i \r\n",
                "        i += 1\r\n",
                "\r\n",
                "n = int(input('Ingrese una cantidad N para generar pares'))\r\n",
                "values = []\r\n",
                "for i in EvenGenerator(n):\r\n",
                "    values.append(str(i))\r\n",
                "\r\n",
                "print(\",\".join(values))\r\n",
                ""
            ],
            "metadata": {
                "azdata_cell_guid": "835c93c6-5626-4e07-aca4-8e80ace5bff9",
                "tags": []
            },
            "outputs": [],
            "execution_count": null
        },
        {
            "cell_type": "markdown",
            "source": [
                "# 17\n",
                "\n",
                "<p style=\"font-size:16px;\">\n",
                "Escribir una sentencia usando la expresión <strong>assert</strong> para verificar<br>\n",
                "que cadas número en una lista ej: [2,3,5,8] es par.   \n",
                "</p>"
            ],
            "metadata": {
                "azdata_cell_guid": "97829bcc-1e83-4f3a-b16a-448bdf05e300"
            }
        },
        {
            "cell_type": "code",
            "source": [
                "lista = [2,4,6,8,10,12,13]\r\n",
                "for i in lista:\r\n",
                "    assert i%2 == 0\r\n",
                "\r\n",
                "\r\n",
                ""
            ],
            "metadata": {
                "azdata_cell_guid": "b7305f13-a5e3-4424-b3db-6756673a2b22"
            },
            "outputs": [],
            "execution_count": null
        },
        {
            "cell_type": "markdown",
            "source": [
                "#18\n",
                "\n",
                "Escribir un programa para comprimir y descomprimir la cadena \"Hello world! Python is great!\""
            ],
            "metadata": {
                "azdata_cell_guid": "f5c7a69c-0702-4992-9fe8-9da4701a6ce5"
            }
        },
        {
            "cell_type": "code",
            "source": [
                "import zlib\r\n",
                "s = \"Hello world! Python is great\"\r\n",
                "t = zlib.compress(s.encode(\"utf-8\"))\r\n",
                "print(t)\r\n",
                "print(zlib.decompress(t))"
            ],
            "metadata": {
                "azdata_cell_guid": "803ccdc4-b9ea-4386-bbe7-d679af21c3e1",
                "tags": [
                    "hide_input"
                ]
            },
            "outputs": [
                {
                    "name": "stdout",
                    "text": "b'x\\x9c\\xf3H\\xcd\\xc9\\xc9W(\\xcf/\\xcaIQT\\x08\\xa8,\\xc9\\xc8\\xcfS\\xc8,VH/JM,\\x01\\x00\\x92\\x89\\n/'\nb'Hello world! Python is great'\n",
                    "output_type": "stream"
                }
            ],
            "execution_count": 31
        }
    ]
}