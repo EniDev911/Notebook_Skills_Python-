{
    "metadata": {
        "kernelspec": {
            "name": "python3",
            "display_name": "Python 3.9.1 64-bit",
            "metadata": {
                "interpreter": {
                    "hash": "104ab0b201326c003eb326b253436127765e9423f74595591084a446732f77fa"
                }
            }
        },
        "language_info": {
            "name": "python",
            "version": "3.9.1-final",
            "mimetype": "text/x-python",
            "codemirror_mode": {
                "name": "ipython",
                "version": 3
            },
            "pygments_lexer": "ipython3",
            "nbconvert_exporter": "python",
            "file_extension": ".py"
        }
    },
    "nbformat_minor": 2,
    "nbformat": 4,
    "cells": [
        {
            "cell_type": "code",
            "execution_count": 9,
            "metadata": {},
            "outputs": [
                {
                    "output_type": "stream",
                    "name": "stdout",
                    "text": [
                        "El número 10 es par\n"
                    ]
                }
            ],
            "source": [
                "a = int(input('Introduce un número para evaluar: '))\n",
                "mensaje = f'El número {a} es par'\n",
                "mensaje2 = f'El número {a} no es par'\n",
                "if a % 2 == 0:\n",
                "    print(mensaje)  \n",
                "else:\n",
                "    print(mensaje2) \n"
            ]
        },
        {
            "cell_type": "code",
            "execution_count": 2,
            "metadata": {},
            "outputs": [
                {
                    "output_type": "stream",
                    "name": "stdout",
                    "text": [
                        "The number 29 is odd\n"
                    ]
                }
            ],
            "source": [
                "x = int(input('Enter a number to evaluate: '))\n",
                "message = f'The number {x} entered is even'\n",
                "message2 = f'The number {x} is odd'\n",
                "if x % 2 == 0:\n",
                "    print(message)\n",
                "else:\n",
                "    print(message2)"
            ]
        },
        {
            "cell_type": "code",
            "execution_count": null,
            "metadata": {},
            "outputs": [],
            "source": []
        }
    ]
}