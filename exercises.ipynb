{
    "metadata": {
        "kernelspec": {
            "name": "python3",
            "display_name": "Python 3",
            "language": "python"
        },
        "language_info": {
            "name": "python",
            "version": "3.6.6",
            "mimetype": "text/x-python",
            "codemirror_mode": {
                "name": "ipython",
                "version": 3
            },
            "pygments_lexer": "ipython3",
            "nbconvert_exporter": "python",
            "file_extension": ".py"
        }
    },
    "nbformat_minor": 2,
    "nbformat": 4,
    "cells": [
        {
            "cell_type": "markdown",
            "source": [
                "01\\. Escribir un programa que elimine duplicados de una lista de Python (ej: lista=\\['a','a','b','c','b','c'\\])"
            ],
            "metadata": {
                "azdata_cell_guid": "5041e2ad-2104-413d-b233-fa4018fdafb9"
            }
        },
        {
            "cell_type": "code",
            "source": [
                "mylist = ['a','a','b','c','b','c']\r\n",
                "mylist = list(dict.fromkeys(mylist))\r\n",
                "print(mylist)\r\n",
                "\r\n",
                "## Con una función\r\n",
                "\r\n",
                "def removeDuplicates(x):\r\n",
                "    return list(dict.fromkeys(x))\r\n",
                "\r\n",
                "print(removeDuplicates(['a','b','a','c','b','c','d','e','d']))"
            ],
            "metadata": {
                "azdata_cell_guid": "d2850374-c9a0-4437-81ae-ae278d320b4e",
                "tags": []
            },
            "outputs": [
                {
                    "name": "stdout",
                    "text": "['a', 'b', 'c']\n['a', 'b', 'c', 'd', 'e']\n",
                    "output_type": "stream"
                }
            ],
            "execution_count": 6
        },
        {
            "cell_type": "markdown",
            "source": [
                "2\\. Cree un programa que permita invertir una cadena (ej: 'hola'debe quedar 'aloh')"
            ],
            "metadata": {
                "azdata_cell_guid": "1f41e32a-3c1d-4ecf-8c78-9b8c0ef2fe06"
            }
        },
        {
            "cell_type": "code",
            "source": [
                "txt = 'hola'\r\n",
                "txt = txt[::-1]\r\n",
                "print(txt)\r\n",
                "\r\n",
                "## Con una función\r\n",
                "\r\n",
                "def stringReverse(x):\r\n",
                "    return x[::-1]\r\n",
                "\r\n",
                "print(stringReverse('123456789'))\r\n",
                "\r\n",
                ""
            ],
            "metadata": {
                "azdata_cell_guid": "a13d9ff9-5378-466e-a9de-2ca38bc89a72",
                "tags": []
            },
            "outputs": [
                {
                    "name": "stdout",
                    "text": "aloh\n987654321\n",
                    "output_type": "stream"
                }
            ],
            "execution_count": 27
        },
        {
            "cell_type": "code",
            "source": [
                "a = int(input('Introduce un número para evaluar: '))\n",
                "mensaje = f'El número {a} es par'\n",
                "mensaje2 = f'El número {a} no es par'\n",
                "if a % 2 == 0:\n",
                "    print(mensaje)  \n",
                "else:\n",
                "    print(mensaje2) \n"
            ],
            "metadata": {
                "azdata_cell_guid": "cb3e7d95-595a-4dc0-a903-c8ef00bd01a9"
            },
            "outputs": [
                {
                    "output_type": "stream",
                    "name": "stdout",
                    "text": "El número 50 es par\n"
                }
            ],
            "execution_count": 2
        },
        {
            "cell_type": "code",
            "source": [
                "x = int(input('Enter a number to evaluate: '))\n",
                "message = f'The number {x} entered is even'\n",
                "message2 = f'The number {x} is odd'\n",
                "if x % 2 == 0:\n",
                "    print(message)\n",
                "else:\n",
                "    print(message2)"
            ],
            "metadata": {
                "azdata_cell_guid": "83ec4669-e8a2-4662-ae68-fc47b5731b6b"
            },
            "outputs": [
                {
                    "output_type": "stream",
                    "name": "stdout",
                    "text": "The number 29 is odd\n"
                }
            ],
            "execution_count": 2
        },
        {
            "cell_type": "markdown",
            "source": [
                "## 16\r\n",
                "<p style=\"font-size:16px;\">\r\n",
                "Escribir un programa usando un generador para imprimir numéros pares entre 0 y N separados por coma \",\" <br>\r\n",
                "mientras que N se ingresa mediante consola \r\n",
                "</p>"
            ],
            "metadata": {
                "azdata_cell_guid": "eb775ce8-01dd-4eea-b843-907a6e3d2621"
            }
        },
        {
            "cell_type": "code",
            "source": [
                "def EvenGenerator(n):\r\n",
                "    i = 0\r\n",
                "    while i <= n:\r\n",
                "        if i%2 == 0:\r\n",
                "            yield i \r\n",
                "        i += 1\r\n",
                "\r\n",
                "n = int(input('Ingrese una cantidad N para generar pares'))\r\n",
                "values = []\r\n",
                "for i in EvenGenerator(n):\r\n",
                "    values.append(str(i))\r\n",
                "\r\n",
                "print(\",\".join(values))\r\n",
                ""
            ],
            "metadata": {
                "azdata_cell_guid": "835c93c6-5626-4e07-aca4-8e80ace5bff9",
                "tags": []
            },
            "outputs": [],
            "execution_count": null
        },
        {
            "cell_type": "markdown",
            "source": [
                "# 17\n",
                "\n",
                "<p style=\"font-size:16px;\">\n",
                "Escribir una sentencia usando la expresión <strong>assert</strong> para verificar<br>\n",
                "que cadas número en una lista ej: [2,3,5,8] es par.   \n",
                "</p>"
            ],
            "metadata": {
                "azdata_cell_guid": "97829bcc-1e83-4f3a-b16a-448bdf05e300"
            }
        },
        {
            "cell_type": "code",
            "source": [
                "lista = [2,4,6,8,10,12,13]\r\n",
                "for i in lista:\r\n",
                "    assert i%2 == 0\r\n",
                "\r\n",
                "\r\n",
                ""
            ],
            "metadata": {
                "azdata_cell_guid": "b7305f13-a5e3-4424-b3db-6756673a2b22"
            },
            "outputs": [],
            "execution_count": null
        },
        {
            "cell_type": "markdown",
            "source": [
                "# 18\n",
                "\n",
                "Escribir un programa para comprimir y descomprimir la cadena \"Hello world! Python is great!\""
            ],
            "metadata": {
                "azdata_cell_guid": "f5c7a69c-0702-4992-9fe8-9da4701a6ce5"
            }
        },
        {
            "cell_type": "code",
            "source": [
                "import zlib\r\n",
                "s = \"Hello world! Python is great\"\r\n",
                "t = zlib.compress(s.encode(\"utf-8\"))\r\n",
                "print(t)\r\n",
                "print(zlib.decompress(t))"
            ],
            "metadata": {
                "azdata_cell_guid": "803ccdc4-b9ea-4386-bbe7-d679af21c3e1",
                "tags": [
                    "hide_input"
                ]
            },
            "outputs": [],
            "execution_count": null
        },
        {
            "cell_type": "markdown",
            "source": [
                "# 19\r\n",
                "<p style=\"font-size:16px;\">\r\n",
                "Defina tres funciones individuales para implementar el filtro, mapear y reducir<br>\r\n",
                "funciones. Experimente con ellos como desee.\r\n",
                "</p>"
            ],
            "metadata": {
                "azdata_cell_guid": "1ca59156-dc04-45cf-8835-91e3e30cc598"
            }
        },
        {
            "cell_type": "code",
            "source": [
                "import functools\r\n",
                "\r\n",
                "def f(x): return x % 2 != 0 and x % 3 != 0\r\n",
                "list(filter(f, range(2, 25)))\r\n",
                "\r\n",
                "def cube(x): return x*x*x\r\n",
                "list(map(cube, range(1,11)))\r\n",
                "\r\n",
                "def add(x,y): return x+y\r\n",
                "functools.reduce(add, range(1,11))\r\n",
                ""
            ],
            "metadata": {
                "azdata_cell_guid": "bd7169c2-71ed-4a5d-9e81-6848836ee131",
                "tags": []
            },
            "outputs": [
                {
                    "output_type": "execute_result",
                    "execution_count": 40,
                    "data": {
                        "text/plain": "20"
                    },
                    "metadata": {}
                }
            ],
            "execution_count": 40
        },
        {
            "cell_type": "markdown",
            "source": [
                "# 20\r\n",
                "<p style=\"font-size:16px;\">\r\n",
                "Crea una lista de números enteros. Usando funciones\r\n",
                "</p>"
            ],
            "metadata": {
                "azdata_cell_guid": "02fb66b3-8bb3-4fa5-81e7-bd7c5c55d218"
            }
        }
    ]
}